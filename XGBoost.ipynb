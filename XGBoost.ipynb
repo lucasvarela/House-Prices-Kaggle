{
 "cells": [
  {
   "cell_type": "code",
   "execution_count": 105,
   "id": "3512d3b6-f0a0-4fd8-8837-3eb97564a13e",
   "metadata": {},
   "outputs": [],
   "source": [
    "import pandas as pd\n",
    "import numpy as np\n",
    "from xgboost import XGBRegressor\n",
    "from sklearn.impute import KNNImputer\n",
    "from sklearn.preprocessing import OneHotEncoder\n",
    "from sklearn.pipeline import Pipeline\n",
    "from sklearn.model_selection import train_test_split\n",
    "from sklearn.compose import ColumnTransformer\n",
    "\n",
    "from skopt import BayesSearchCV\n",
    "from skopt.space import Real, Categorical, Integer\n",
    "from skopt.plots import plot_objective, plot_histogram\n",
    "from sklearn.svm import LinearSVC, SVC"
   ]
  },
  {
   "cell_type": "code",
   "execution_count": 111,
   "id": "66fb3bf8-0203-4377-b246-c30dd44bef22",
   "metadata": {},
   "outputs": [],
   "source": [
    "# train and real_test\n",
    "train = pd.read_csv(\"./data/train.csv\")\n",
    "real_test = pd.read_csv(\"./data/test.csv\")\n",
    "\n",
    "# drop cols with less than 70% info\n",
    "drop_cols = [col for col in train.columns if train[col].isnull().sum(axis=0)/len(train) >=0.3]\n",
    "train.drop(drop_cols, axis=1, inplace=True)\n",
    "real_test.drop(drop_cols, axis=1, inplace=True)\n",
    "\n",
    "# find numeric and categoric columns \n",
    "num_cols = train.select_dtypes(include=np.number).columns\n",
    "cat_cols = pd.Index(list(set(train.columns)- set(num_cols)))\n",
    "num_cols = num_cols.drop(['SalePrice'])\n",
    "\n",
    "# algorithms used\n",
    "OHE = OneHotEncoder(handle_unknown = \"ignore\")\n",
    "knn_imputer = KNNImputer(n_neighbors=2, weights=\"uniform\")\n",
    "xgb = XGBRegressor()\n",
    "\n",
    "# column transformation pipeline\n",
    "transformer = ColumnTransformer([('cat_cols', OHE, cat_cols),\n",
    "                                ('num_cols', knn_imputer, num_cols)])\n",
    "# complete pipeline\n",
    "pipe = Pipeline([('preprocessing', transformer),\n",
    "                ('XGBR', xgb)])\n",
    "\n",
    "# split in train test sets\n",
    "y = train.SalePrice\n",
    "X = train.drop(['SalePrice'], axis=1)\n",
    "train_X, test_X, train_y, test_y = train_test_split(X, y, test_size=0.2)\n"
   ]
  },
  {
   "cell_type": "code",
   "execution_count": 116,
   "id": "efdacb27-a837-46e9-97cc-b56c5427f040",
   "metadata": {},
   "outputs": [
    {
     "name": "stdout",
     "output_type": "stream",
     "text": [
      "Fitting 3 folds for each of 1 candidates, totalling 3 fits\n",
      "Fitting 3 folds for each of 1 candidates, totalling 3 fits\n",
      "Fitting 3 folds for each of 1 candidates, totalling 3 fits\n",
      "val. score: 0.8847372550776066\n",
      "test score: 0.8563900521396924\n",
      "best params: OrderedDict([('XGBR__gamma', 3.6938736545297165e-06), ('XGBR__learning_rate', 0.28539836866041823), ('XGBR__max_depth', 47), ('XGBR__n_estimators', 384), ('XGBR__scale_pos_weight', 0.6754557459174224)])\n"
     ]
    }
   ],
   "source": [
    "# Hyperparameter tunning with BayesSearchCV\n",
    "\n",
    "fit_params = {\n",
    "    'early_stopping_rounds': 10,\n",
    "    'eval_set':[(X, y)],\n",
    "    'verbose': False,\n",
    "}\n",
    "\n",
    "from skopt.space import Real, Categorical, Integer\n",
    "# add XGBR__\"hyperparameter\" to distinguish \n",
    "search_space = {\n",
    "    'XGBR__max_depth': Integer(0, 50),\n",
    "    'XGBR__n_estimators': Integer(100, 1000),\n",
    "    'XGBR__learning_rate': Real(0.01, 1.0, 'log-uniform'),\n",
    "    'XGBR__gamma': Real(1e-9, 0.5, 'log-uniform'),\n",
    "    'XGBR__scale_pos_weight': Real(1e-6, 500, 'log-uniform'),\n",
    "}\n",
    "\n",
    "\n",
    "    # scoring=\"neg_mean_squared_error\",\n",
    "opt = BayesSearchCV(\n",
    "    pipe,\n",
    "    search_spaces=search_space,\n",
    "    fit_params=fit_params,\n",
    "    cv=3,\n",
    "    random_state=42,\n",
    "    n_iter=3,\n",
    "    verbose=1,\n",
    ")\n",
    "\n",
    "opt.fit(train_X, train_y)\n",
    "\n",
    "print(\"val. score: %s\" % opt.best_score_)\n",
    "print(\"test score: %s\" % opt.score(test_X, test_y))\n",
    "print(\"best params: %s\" % str(opt.best_params_))\n",
    "\n",
    "# is the model overfitted? R2 vs neg_mean_squared_error"
   ]
  },
  {
   "cell_type": "code",
   "execution_count": 102,
   "id": "e84d05ec-3f1d-42cf-b6c5-d4e85b8f7769",
   "metadata": {},
   "outputs": [
    {
     "data": {
      "text/plain": [
       "Pipeline(steps=[('preprocessing',\n",
       "                 ColumnTransformer(transformers=[('cat_cols',\n",
       "                                                  OneHotEncoder(handle_unknown='ignore'),\n",
       "                                                  Index(['KitchenQual', 'Functional', 'MasVnrType', 'Neighborhood', 'LandSlope',\n",
       "       'PavedDrive', 'SaleCondition', 'Street', 'Condition2', 'HouseStyle',\n",
       "       'CentralAir', 'GarageCond', 'LotConfig', 'BldgType', 'MSZoning',\n",
       "       'BsmtFinType1', 'HeatingQC', 'GarageFi...\n",
       "                              gamma=0, gpu_id=-1, importance_type=None,\n",
       "                              interaction_constraints='',\n",
       "                              learning_rate=0.300000012, max_delta_step=0,\n",
       "                              max_depth=6, min_child_weight=1, missing=nan,\n",
       "                              monotone_constraints='()', n_estimators=100,\n",
       "                              n_jobs=4, num_parallel_tree=1, predictor='auto',\n",
       "                              random_state=0, reg_alpha=0, reg_lambda=1,\n",
       "                              scale_pos_weight=1, subsample=1,\n",
       "                              tree_method='exact', validate_parameters=1,\n",
       "                              verbosity=None))])"
      ]
     },
     "execution_count": 102,
     "metadata": {},
     "output_type": "execute_result"
    }
   ],
   "source": [
    "# pipe.fit(train_X, train_y)\n",
    "# pipe.score(test_X, test_y), pipe.score(train_X, train_y)"
   ]
  },
  {
   "cell_type": "code",
   "execution_count": 118,
   "id": "f967a21a-dbf0-4fc0-9378-5daf21e6a24d",
   "metadata": {},
   "outputs": [
    {
     "data": {
      "text/plain": [
       "(0.8563900521396924, 0.99999999999994)"
      ]
     },
     "execution_count": 118,
     "metadata": {},
     "output_type": "execute_result"
    }
   ],
   "source": [
    "opt.score(test_X, test_y), opt.score(train_X, train_y)"
   ]
  },
  {
   "cell_type": "code",
   "execution_count": null,
   "id": "aaf0097b-4dd8-4f8e-ac10-9483f688a1ce",
   "metadata": {},
   "outputs": [],
   "source": []
  }
 ],
 "metadata": {
  "kernelspec": {
   "display_name": "Python 3 (ipykernel)",
   "language": "python",
   "name": "python3"
  },
  "language_info": {
   "codemirror_mode": {
    "name": "ipython",
    "version": 3
   },
   "file_extension": ".py",
   "mimetype": "text/x-python",
   "name": "python",
   "nbconvert_exporter": "python",
   "pygments_lexer": "ipython3",
   "version": "3.9.7"
  }
 },
 "nbformat": 4,
 "nbformat_minor": 5
}
